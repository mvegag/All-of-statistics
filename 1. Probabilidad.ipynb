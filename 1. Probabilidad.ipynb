{
 "cells": [
  {
   "cell_type": "markdown",
   "source": [
    "\n",
    "# Probabilidad\n",
    "\n",
    "### Axiomas de probabilidad\n",
    "\n",
    "1. **Axioma 1:** $P(A) \\geq 0$ para todo A.\n",
    "2. **Axioma 2:** $P(\\Omega) = 1$, siendo $\\Omega$ el espacio muestral.\n",
    "3. **Axioma 3:** is $A_1, A_2, \\dots$ son disjuntos entonces,\n",
    "$$\n",
    "P\\left(\\bigcup_{i=1}^\\infty = \\sum_{i=1}^\\infty P(A_i)\\right)\n",
    "$$\n",
    "\n",
    "### Lema\n",
    "\n",
    "Para cualesquiera eventos A y B,\n",
    "\n",
    "$$\n",
    "P\\left(A\\bigcup B\\right) = P(A) + P(B) - P(AB)\n",
    "$$\n",
    "\n",
    "### Probabilidad de espacios muestrales finitos\n",
    "\n",
    "Si $\\Omega$ es finito y cada resultado es igualmente probable, entonces\n",
    "\n",
    "$$\n",
    "P(A) = \\frac{|A|}{|\\Omega|}\n",
    "$$\n",
    "\n",
    "lo cual es llamado la **distribución uniforme de probabilidad**.\n",
    "\n",
    "### Conteo\n",
    "\n",
    "Dados $n$ objetos, el número de maneras de ordenarlos es $n!$.\n",
    "\n",
    "El número de maneras **distintas** de escoger $k$ objetos de $n$ se define como \n",
    "\n",
    "$$\n",
    "{n\\choose k} = \\frac{n!}{k!(n - k)!}\n",
    "$$\n",
    "\n",
    "### Eventos independientes\n",
    "\n",
    "Dos eventos son **independientes** si\n",
    "\n",
    "$$\n",
    "P(AB) = P(A)P(B)\n",
    "$$\n",
    "\n",
    "### Probabilidad condicional\n",
    "\n",
    "Asumiendo que $P(B) > 0$, la probabilidad de $A$ dado $B$  es\n",
    "\n",
    "$$\n",
    "P(A|B) = \\frac{P(AB)}{P(B)}\n",
    "$$\n",
    "\n",
    "### Lema\n",
    "\n",
    "Si A y B son eventos independientes entonces $P(A|B) = P(A)$, también tenemos que\n",
    "\n",
    "$$\n",
    "P(AB) = P(A|B)P(B) = P(B|A)P(A)\n",
    "$$\n",
    "\n",
    "### Teorema de Bayes\n",
    "\n",
    "#### Teorema (regla de la probabilidad total)\n",
    "\n",
    "Sean $A_1, \\dots, A_k$ una partición de $\\Omega$. Entonces, para cualquier evento B,\n",
    "\n",
    "$$\n",
    "P(B) = \\sum_{i=1}^k P(B|A_i)P(A_i)\n",
    "$$\n",
    "\n",
    "#### Teorema (Teorema de Bayes)\n",
    "\n",
    "Sean $A_1, \\dots, A_k$ una partición de $\\Omega$ tal que $P(A_i) > 0$ para cada $i$. Si $P(B) > 0$, entonces para cada $i$,\n",
    "\n",
    "$$\n",
    "P(A_i|B) = \\frac{P(B|A_i)P(A_i)}{\\sum_j P(B|A_j)P(A_j)}\n",
    "$$"
   ],
   "metadata": {
    "collapsed": false
   },
   "id": "6b16d6945486d85e"
  },
  {
   "cell_type": "markdown",
   "source": [
    "## Ejercicios\n",
    "\n"
   ],
   "metadata": {
    "collapsed": false
   },
   "id": "5b00be8e77111be2"
  },
  {
   "cell_type": "code",
   "outputs": [],
   "source": [],
   "metadata": {
    "collapsed": false
   },
   "id": "59f83567d533c34d"
  },
  {
   "cell_type": "code",
   "outputs": [],
   "source": [],
   "metadata": {
    "collapsed": false
   },
   "id": "d219426f86240983"
  }
 ],
 "metadata": {
  "kernelspec": {
   "display_name": "Python 3",
   "language": "python",
   "name": "python3"
  },
  "language_info": {
   "codemirror_mode": {
    "name": "ipython",
    "version": 2
   },
   "file_extension": ".py",
   "mimetype": "text/x-python",
   "name": "python",
   "nbconvert_exporter": "python",
   "pygments_lexer": "ipython2",
   "version": "2.7.6"
  }
 },
 "nbformat": 4,
 "nbformat_minor": 5
}
